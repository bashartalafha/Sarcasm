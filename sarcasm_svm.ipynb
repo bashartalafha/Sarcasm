{
 "cells": [
  {
   "cell_type": "code",
   "execution_count": 3,
   "metadata": {},
   "outputs": [],
   "source": [
    "from pathlib import Path\n",
    "from datetime import datetime as dt\n",
    "import pandas as pd    \n",
    "import random\n",
    "from sklearn.feature_extraction.text import CountVectorizer, TfidfTransformer,TfidfVectorizer\n",
    "from sklearn.naive_bayes import BernoulliNB, GaussianNB, MultinomialNB\n",
    "from sklearn.svm import LinearSVC, SVC, NuSVC, libsvm, SVR\n",
    "from sklearn.metrics import  accuracy_score\n",
    "from sklearn import metrics\n",
    "from sklearn.utils import shuffle\n",
    "import numpy as np"
   ]
  },
  {
   "cell_type": "code",
   "execution_count": 4,
   "metadata": {},
   "outputs": [],
   "source": [
    "train=pd.read_csv(\"train.csv\", header=None)\n",
    "train = np.array(shuffle(train))\n",
    "\n",
    "test=pd.read_csv(\"test.csv\", header=None)\n",
    "test = np.array(shuffle(test))"
   ]
  },
  {
   "cell_type": "code",
   "execution_count": 5,
   "metadata": {},
   "outputs": [
    {
     "name": "stdout",
     "output_type": "stream",
     "text": [
      "Train size: 1239 Test size: 315\n"
     ]
    }
   ],
   "source": [
    "print(\"Train size:\",len(train), \"Test size:\", len(test))"
   ]
  },
  {
   "cell_type": "code",
   "execution_count": 6,
   "metadata": {},
   "outputs": [],
   "source": [
    "train_sum = []\n",
    "for i in range(len(train)):\n",
    "    s=0\n",
    "    for j in range(15,26): \n",
    "        s+=train[i][j]\n",
    "    train_sum.append(s)\n",
    "\n",
    "test_sum = []\n",
    "for i in range(len(test)):\n",
    "    s=0\n",
    "    for j in range(15,26):\n",
    "        s+=test[i][j]\n",
    "    test_sum.append(s)"
   ]
  },
  {
   "cell_type": "code",
   "execution_count": 7,
   "metadata": {},
   "outputs": [],
   "source": [
    "train_text = [i[2] for i in train]\n",
    "test_text = [i[2] for i in test]"
   ]
  },
  {
   "cell_type": "code",
   "execution_count": 8,
   "metadata": {},
   "outputs": [],
   "source": [
    "def get_features(train_arr, test_arr):\n",
    "    vectorizer = CountVectorizer()\n",
    "    vectorizer.fit(train_arr)\n",
    "    train_mat = vectorizer.transform(train_arr)\n",
    "\n",
    "    tfidf = TfidfTransformer()\n",
    "    tfidf.fit(train_mat)\n",
    "    train_tfmat = tfidf.transform(train_mat)\n",
    "\n",
    "    test_mat = vectorizer.transform(test_arr)\n",
    "    test_tfmat = tfidf.transform(test_mat)\n",
    "    return train_tfmat, test_tfmat"
   ]
  },
  {
   "cell_type": "code",
   "execution_count": 37,
   "metadata": {},
   "outputs": [
    {
     "name": "stdout",
     "output_type": "stream",
     "text": [
      "Two classes \n",
      "Score > 0 Yes\n",
      "Score < 0 No\n",
      "\n",
      "Training SVM model...\n",
      "accuracy: 0.8126984126984127\n"
     ]
    }
   ],
   "source": [
    "print(\"Two classes \\nScore > 0 Yes\\nScore < 0 No\")\n",
    "binary_train_labels = [\"Yes\" if i>0 else \"No\" for i in train_sum]\n",
    "binary_test_labels = [\"Yes\" if i>0 else \"No\" for i in test_sum]\n",
    "\n",
    "train_lbl = binary_train_labels\n",
    "test_lbl = binary_test_labels\n",
    "\n",
    "train_tfmat, test_tfmat = get_features(train_text, test_text)\n",
    "\n",
    "print(\"\\nTraining SVM model...\")\n",
    "lsvm=LinearSVC()\n",
    "lsvm.fit(train_tfmat,train_lbl)\n",
    "y_pred_lsvm=lsvm.predict(test_tfmat)\n",
    "print(\"accuracy:\", metrics.accuracy_score(test_lbl, y_pred_lsvm))"
   ]
  },
  {
   "cell_type": "code",
   "execution_count": 38,
   "metadata": {},
   "outputs": [
    {
     "name": "stdout",
     "output_type": "stream",
     "text": [
      "Train: Yes: 1014 , No: 225\n",
      "Test: Yes: 256 , No: 59\n"
     ]
    }
   ],
   "source": [
    "print(\"Train: Yes:\",binary_train_labels.count(\"Yes\"),\", No:\",binary_train_labels.count(\"No\"))\n",
    "print(\"Test: Yes:\",binary_test_labels.count(\"Yes\"),\", No:\",binary_test_labels.count(\"No\"))"
   ]
  },
  {
   "cell_type": "code",
   "execution_count": 39,
   "metadata": {},
   "outputs": [
    {
     "name": "stdout",
     "output_type": "stream",
     "text": [
      "Three classes \n",
      "[4,11]-> Yes \n",
      "[-3,3]-> Conflict \n",
      "[-4,-11]-> No\n",
      "\n",
      "Training SVM model...\n",
      "accuracy: 0.5968253968253968\n"
     ]
    }
   ],
   "source": [
    "splitter = 3\n",
    "print(\"Three classes \\n[\"+str(splitter+1)+\",11]-> Yes \\n[-\"+str(splitter)+\",\"+str(splitter)+\"]-> Conflict \\n[-\"+str(splitter+1)+\",-11]-> No\")\n",
    "three_train_labels=[]\n",
    "for i in train_sum:\n",
    "    if i>splitter:\n",
    "        three_train_labels.append(\"Yes\")\n",
    "    elif i<=splitter and i>=-splitter:\n",
    "        three_train_labels.append(\"Conflict\")\n",
    "    elif i<-splitter:\n",
    "        three_train_labels.append(\"No\")\n",
    "        \n",
    "three_test_labels=[]\n",
    "for i in test_sum:\n",
    "    if i>splitter:\n",
    "        three_test_labels.append(\"Yes\")\n",
    "    elif i<=splitter and i>=-splitter:\n",
    "        three_test_labels.append(\"Conflict\")\n",
    "    elif i<-splitter:\n",
    "        three_test_labels.append(\"No\")\n",
    "        \n",
    "train_lbl = three_train_labels\n",
    "test_lbl = three_test_labels\n",
    "\n",
    "train_tfmat, test_tfmat = get_features(train_text, test_text)\n",
    "\n",
    "print(\"\\nTraining SVM model...\")\n",
    "lsvm=LinearSVC(class_weight=\"balanced\")\n",
    "lsvm.fit(train_tfmat,train_lbl)\n",
    "y_pred_lsvm=lsvm.predict(test_tfmat)\n",
    "print(\"accuracy:\", metrics.accuracy_score(test_lbl, y_pred_lsvm))"
   ]
  },
  {
   "cell_type": "code",
   "execution_count": 12,
   "metadata": {},
   "outputs": [
    {
     "name": "stdout",
     "output_type": "stream",
     "text": [
      "Train: Yes: 703 , Conflict: 483 , No: 53\n",
      "Test: Yes: 177 , Conflict: 123 , No: 15\n"
     ]
    }
   ],
   "source": [
    "print(\"Train: Yes:\",three_train_labels.count(\"Yes\"),\", Conflict:\",three_train_labels.count(\"Conflict\"),\", No:\",three_train_labels.count(\"No\"))\n",
    "print(\"Test: Yes:\",three_test_labels.count(\"Yes\"),\", Conflict:\",three_test_labels.count(\"Conflict\"),\", No:\",three_test_labels.count(\"No\"))"
   ]
  },
  {
   "cell_type": "code",
   "execution_count": 33,
   "metadata": {},
   "outputs": [
    {
     "name": "stdout",
     "output_type": "stream",
     "text": [
      "Two classes \n",
      "Score > 0 Yes\n",
      "Score < 0 No\n",
      "train_yes: 1014 train_no: 225\n",
      "\n",
      "Training SVM model...\n"
     ]
    },
    {
     "ename": "ValueError",
     "evalue": "This solver needs samples of at least 2 classes in the data, but the data contains only one class: 'Yes'",
     "output_type": "error",
     "traceback": [
      "\u001b[0;31m---------------------------------------------------------------------------\u001b[0m",
      "\u001b[0;31mValueError\u001b[0m                                Traceback (most recent call last)",
      "\u001b[0;32m<ipython-input-33-46245baf6ffd>\u001b[0m in \u001b[0;36m<module>\u001b[0;34m()\u001b[0m\n\u001b[1;32m     25\u001b[0m \u001b[0mprint\u001b[0m\u001b[0;34m(\u001b[0m\u001b[0;34m\"\\nTraining SVM model...\"\u001b[0m\u001b[0;34m)\u001b[0m\u001b[0;34m\u001b[0m\u001b[0m\n\u001b[1;32m     26\u001b[0m \u001b[0mlsvm\u001b[0m\u001b[0;34m=\u001b[0m\u001b[0mLinearSVC\u001b[0m\u001b[0;34m(\u001b[0m\u001b[0;34m)\u001b[0m\u001b[0;34m\u001b[0m\u001b[0m\n\u001b[0;32m---> 27\u001b[0;31m \u001b[0mlsvm\u001b[0m\u001b[0;34m.\u001b[0m\u001b[0mfit\u001b[0m\u001b[0;34m(\u001b[0m\u001b[0mtrain_tfmat_yes\u001b[0m\u001b[0;34m,\u001b[0m \u001b[0mtrain_yes_lbl\u001b[0m\u001b[0;34m)\u001b[0m\u001b[0;34m\u001b[0m\u001b[0m\n\u001b[0m\u001b[1;32m     28\u001b[0m \u001b[0mtrain_tfmat_no\u001b[0m\u001b[0;34m,\u001b[0m \u001b[0mtest_tfmat\u001b[0m \u001b[0;34m=\u001b[0m \u001b[0mget_features\u001b[0m\u001b[0;34m(\u001b[0m\u001b[0mtrain_no_text\u001b[0m\u001b[0;34m,\u001b[0m \u001b[0mtrain_no_lbl\u001b[0m\u001b[0;34m)\u001b[0m\u001b[0;34m\u001b[0m\u001b[0m\n\u001b[1;32m     29\u001b[0m \u001b[0mlsvm\u001b[0m\u001b[0;34m.\u001b[0m\u001b[0mfit\u001b[0m\u001b[0;34m(\u001b[0m\u001b[0mtrain_tfmat_no\u001b[0m\u001b[0;34m,\u001b[0m \u001b[0mtrain_no_lbl\u001b[0m\u001b[0;34m)\u001b[0m\u001b[0;34m\u001b[0m\u001b[0m\n",
      "\u001b[0;32m/usr/local/lib/python3.6/site-packages/sklearn/svm/classes.py\u001b[0m in \u001b[0;36mfit\u001b[0;34m(self, X, y, sample_weight)\u001b[0m\n\u001b[1;32m    233\u001b[0m             \u001b[0mself\u001b[0m\u001b[0;34m.\u001b[0m\u001b[0mclass_weight\u001b[0m\u001b[0;34m,\u001b[0m \u001b[0mself\u001b[0m\u001b[0;34m.\u001b[0m\u001b[0mpenalty\u001b[0m\u001b[0;34m,\u001b[0m \u001b[0mself\u001b[0m\u001b[0;34m.\u001b[0m\u001b[0mdual\u001b[0m\u001b[0;34m,\u001b[0m \u001b[0mself\u001b[0m\u001b[0;34m.\u001b[0m\u001b[0mverbose\u001b[0m\u001b[0;34m,\u001b[0m\u001b[0;34m\u001b[0m\u001b[0m\n\u001b[1;32m    234\u001b[0m             \u001b[0mself\u001b[0m\u001b[0;34m.\u001b[0m\u001b[0mmax_iter\u001b[0m\u001b[0;34m,\u001b[0m \u001b[0mself\u001b[0m\u001b[0;34m.\u001b[0m\u001b[0mtol\u001b[0m\u001b[0;34m,\u001b[0m \u001b[0mself\u001b[0m\u001b[0;34m.\u001b[0m\u001b[0mrandom_state\u001b[0m\u001b[0;34m,\u001b[0m \u001b[0mself\u001b[0m\u001b[0;34m.\u001b[0m\u001b[0mmulti_class\u001b[0m\u001b[0;34m,\u001b[0m\u001b[0;34m\u001b[0m\u001b[0m\n\u001b[0;32m--> 235\u001b[0;31m             self.loss, sample_weight=sample_weight)\n\u001b[0m\u001b[1;32m    236\u001b[0m \u001b[0;34m\u001b[0m\u001b[0m\n\u001b[1;32m    237\u001b[0m         \u001b[0;32mif\u001b[0m \u001b[0mself\u001b[0m\u001b[0;34m.\u001b[0m\u001b[0mmulti_class\u001b[0m \u001b[0;34m==\u001b[0m \u001b[0;34m\"crammer_singer\"\u001b[0m \u001b[0;32mand\u001b[0m \u001b[0mlen\u001b[0m\u001b[0;34m(\u001b[0m\u001b[0mself\u001b[0m\u001b[0;34m.\u001b[0m\u001b[0mclasses_\u001b[0m\u001b[0;34m)\u001b[0m \u001b[0;34m==\u001b[0m \u001b[0;36m2\u001b[0m\u001b[0;34m:\u001b[0m\u001b[0;34m\u001b[0m\u001b[0m\n",
      "\u001b[0;32m/usr/local/lib/python3.6/site-packages/sklearn/svm/base.py\u001b[0m in \u001b[0;36m_fit_liblinear\u001b[0;34m(X, y, C, fit_intercept, intercept_scaling, class_weight, penalty, dual, verbose, max_iter, tol, random_state, multi_class, loss, epsilon, sample_weight)\u001b[0m\n\u001b[1;32m    851\u001b[0m             raise ValueError(\"This solver needs samples of at least 2 classes\"\n\u001b[1;32m    852\u001b[0m                              \u001b[0;34m\" in the data, but the data contains only one\"\u001b[0m\u001b[0;34m\u001b[0m\u001b[0m\n\u001b[0;32m--> 853\u001b[0;31m                              \" class: %r\" % classes_[0])\n\u001b[0m\u001b[1;32m    854\u001b[0m \u001b[0;34m\u001b[0m\u001b[0m\n\u001b[1;32m    855\u001b[0m         \u001b[0mclass_weight_\u001b[0m \u001b[0;34m=\u001b[0m \u001b[0mcompute_class_weight\u001b[0m\u001b[0;34m(\u001b[0m\u001b[0mclass_weight\u001b[0m\u001b[0;34m,\u001b[0m \u001b[0mclasses_\u001b[0m\u001b[0;34m,\u001b[0m \u001b[0my\u001b[0m\u001b[0;34m)\u001b[0m\u001b[0;34m\u001b[0m\u001b[0m\n",
      "\u001b[0;31mValueError\u001b[0m: This solver needs samples of at least 2 classes in the data, but the data contains only one class: 'Yes'"
     ]
    }
   ],
   "source": [
    "from imblearn.over_sampling import SMOTE\n",
    "sm = SMOTE(random_state=12, ratio = 1.0)\n",
    "\n",
    "print(\"Two classes \\nScore > 0 Yes\\nScore < 0 No\")\n",
    "\n",
    "binary_train_labels = [\"Yes\" if i>0 else \"No\" for i in train_sum]\n",
    "binary_test_labels = [\"Yes\" if i>0 else \"No\" for i in test_sum]\n",
    "\n",
    "train_lbl = binary_train_labels\n",
    "test_lbl = binary_test_labels\n",
    "\n",
    "train_yes = [(t,i) for t,i in zip(train_text, binary_train_labels)  if \"Yes\" in i]\n",
    "train_no = [(t,i) for t,i in zip(train_text, binary_train_labels)  if \"No\" in i]\n",
    "\n",
    "print(\"train_yes:\",len(train_yes), \"train_no:\",len(train_no))\n",
    "\n",
    "train_yes_text = [i[0] for i in train_yes]\n",
    "train_yes_lbl = [i[1] for i in train_yes]\n",
    "\n",
    "train_no_text = [i[0] for i in train_no]\n",
    "train_no_lbl = [i[1] for i in train_no]\n",
    "\n",
    "train_tfmat_yes, test_tfmat = get_features(train_yes_text, train_yes_lbl)\n",
    "\n",
    "print(\"\\nTraining SVM model...\")\n",
    "lsvm=LinearSVC(class_weight=\"balanced\")\n",
    "lsvm.fit(train_tfmat_yes, train_yes_lbl)\n",
    "train_tfmat_no, test_tfmat = get_features(train_no_text, train_no_lbl)\n",
    "lsvm.fit(train_tfmat_no, train_no_lbl)\n",
    "\n",
    "y_pred_lsvm=lsvm.predict(test_tfmat)\n",
    "print(\"accuracy:\", metrics.accuracy_score(test_lbl, y_pred_lsvm))\n",
    "\n"
   ]
  },
  {
   "cell_type": "code",
   "execution_count": 26,
   "metadata": {},
   "outputs": [
    {
     "data": {
      "text/plain": [
       "<1239x9552 sparse matrix of type '<class 'numpy.float64'>'\n",
       "\twith 18412 stored elements in Compressed Sparse Row format>"
      ]
     },
     "execution_count": 26,
     "metadata": {},
     "output_type": "execute_result"
    }
   ],
   "source": []
  }
 ],
 "metadata": {
  "kernelspec": {
   "display_name": "Python 3",
   "language": "python",
   "name": "python3"
  },
  "language_info": {
   "codemirror_mode": {
    "name": "ipython",
    "version": 3
   },
   "file_extension": ".py",
   "mimetype": "text/x-python",
   "name": "python",
   "nbconvert_exporter": "python",
   "pygments_lexer": "ipython3",
   "version": "3.6.3"
  }
 },
 "nbformat": 4,
 "nbformat_minor": 2
}
