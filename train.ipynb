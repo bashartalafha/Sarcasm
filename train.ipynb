{
 "cells": [
  {
   "cell_type": "code",
   "execution_count": null,
   "id": "confused-failing",
   "metadata": {},
   "outputs": [],
   "source": [
    "import pandas as pd\n",
    "import numpy as np\n",
    "from sklearn.model_selection import train_test_split\n",
    "from simpletransformers.classification import ClassificationModel, ClassificationArgs"
   ]
  },
  {
   "cell_type": "code",
   "execution_count": null,
   "id": "japanese-inspiration",
   "metadata": {},
   "outputs": [],
   "source": [
    "data = pd.read_excel(\"Sarcasm-data.xlsx\")"
   ]
  },
  {
   "cell_type": "code",
   "execution_count": null,
   "id": "everyday-asthma",
   "metadata": {},
   "outputs": [],
   "source": [
    "votes = data.columns[4:15]"
   ]
  },
  {
   "cell_type": "code",
   "execution_count": null,
   "id": "approved-burton",
   "metadata": {},
   "outputs": [],
   "source": [
    "all_data = []\n",
    "for index, row in data.iterrows():\n",
    "    all_data.append([row['Tweet'], [row[vote].lower() for vote in votes].count(\"yes\")/11])"
   ]
  },
  {
   "cell_type": "code",
   "execution_count": null,
   "id": "center-train",
   "metadata": {},
   "outputs": [],
   "source": [
    "train_data, eval_data = train_test_split(all_data,test_size=0.2)"
   ]
  },
  {
   "cell_type": "code",
   "execution_count": null,
   "id": "dressed-heart",
   "metadata": {},
   "outputs": [],
   "source": [
    "train_df = pd.DataFrame(train_data)\n",
    "train_df.columns = [\"text\", \"labels\"]"
   ]
  },
  {
   "cell_type": "code",
   "execution_count": null,
   "id": "african-comedy",
   "metadata": {},
   "outputs": [],
   "source": [
    "eval_df = pd.DataFrame(eval_data)\n",
    "eval_df.columns = [\"text\", \"labels\"]"
   ]
  },
  {
   "cell_type": "code",
   "execution_count": null,
   "id": "serial-curtis",
   "metadata": {},
   "outputs": [],
   "source": [
    "# Enabling regression\n",
    "# Setting optional model configuration\n",
    "model_args = ClassificationArgs()\n",
    "model_args.num_train_epochs = 1\n",
    "model_args.regression = True"
   ]
  },
  {
   "cell_type": "code",
   "execution_count": null,
   "id": "later-condition",
   "metadata": {},
   "outputs": [],
   "source": [
    "# Create a ClassificationModel\n",
    "model = ClassificationModel(\n",
    "    \"roberta\",\n",
    "    \"roberta-base\",\n",
    "    num_labels=1,\n",
    "    args=model_args\n",
    ")"
   ]
  },
  {
   "cell_type": "code",
   "execution_count": null,
   "id": "utility-enterprise",
   "metadata": {},
   "outputs": [],
   "source": [
    "# Train the model\n",
    "model.train_model(train_df)"
   ]
  },
  {
   "cell_type": "code",
   "execution_count": null,
   "id": "functional-american",
   "metadata": {},
   "outputs": [],
   "source": [
    "# Evaluate the model\n",
    "result, model_outputs, wrong_predictions = model.eval_model(eval_df)"
   ]
  },
  {
   "cell_type": "code",
   "execution_count": null,
   "id": "expired-switch",
   "metadata": {},
   "outputs": [],
   "source": [
    "# Make predictions with the model\n",
    "predictions, raw_outputs = model.predict([\"Sam was a Wizard\"])"
   ]
  }
 ],
 "metadata": {
  "kernelspec": {
   "display_name": "venv",
   "language": "python",
   "name": "venv"
  },
  "language_info": {
   "codemirror_mode": {
    "name": "ipython",
    "version": 3
   },
   "file_extension": ".py",
   "mimetype": "text/x-python",
   "name": "python",
   "nbconvert_exporter": "python",
   "pygments_lexer": "ipython3",
   "version": "3.6.8"
  }
 },
 "nbformat": 4,
 "nbformat_minor": 5
}
